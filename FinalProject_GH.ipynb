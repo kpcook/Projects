{
 "cells": [
  {
   "cell_type": "markdown",
   "metadata": {},
   "source": [
    "# COGS 108 - Final Project "
   ]
  },
  {
   "cell_type": "markdown",
   "metadata": {},
   "source": [
    "# Overview"
   ]
  },
  {
   "cell_type": "markdown",
   "metadata": {},
   "source": [
    "In this project, I am going to see how the average amount of calls for distrubance of the peace has been affected by the Covid-19 pandemic in San Diego. People have keeping their neighbors vigilant in order to prevent the spread of disease. For example, some people have been throwing parties and being shut down by their neighbors. Of course this always happens, but the news coverage of events getting shut down in recent months has been more frequent. "
   ]
  },
  {
   "cell_type": "markdown",
   "metadata": {},
   "source": [
    "# Name & GitHub\n",
    "\n",
    "- Name: Kyle Cook\n",
    "- GitHub Username: kpcook"
   ]
  },
  {
   "cell_type": "markdown",
   "metadata": {},
   "source": [
    "# Research Question"
   ]
  },
  {
   "cell_type": "markdown",
   "metadata": {},
   "source": [
    "What is the relaitonship between covid-19 and the frequency of disturbance of the peace calls in San Diego?"
   ]
  },
  {
   "cell_type": "markdown",
   "metadata": {},
   "source": [
    "## Background and Prior Work"
   ]
  },
  {
   "cell_type": "markdown",
   "metadata": {},
   "source": [
    "\n",
    "References (include links):\n",
    "- 1) This link include information about how neighbors have become \n",
    "https://www.cbs8.com/article/features/producers-picks/neighbors-calling-out-other-neighbors-for-not-following-social-distancing-rules/509-6dd6b215-6621-49e1-bd98-9306c1bd92f0\n",
    "- 2) Evidence of parties being thrown and shut down by neighbors\n",
    "https://www.cbs8.com/article/news/health/coronavirus/san-diego-state-sdsu-neighbors-out-of-control-pandemic-parties-covid-super-spreader/509-f6edccc3-594f-446b-a029-72d2ae322336\n",
    "- 3)Information on when the lockdown in California Began\n",
    "https://www.ksla.com/2020/03/20/california-becomes-first-state-order-lockdown/"
   ]
  },
  {
   "cell_type": "markdown",
   "metadata": {},
   "source": [
    "# Hypothesis\n"
   ]
  },
  {
   "cell_type": "markdown",
   "metadata": {},
   "source": [
    "I hypothesize that the calls to police from 2020 will show an increase in disturbance of the peace calls due to the effects of the Covid-19 Pandemic in San Diego. "
   ]
  },
  {
   "cell_type": "markdown",
   "metadata": {},
   "source": [
    "# Dataset(s)"
   ]
  },
  {
   "cell_type": "markdown",
   "metadata": {},
   "source": [
    "\n",
    "\n",
    "(Copy this information for each dataset)\n",
    "- Dataset Name: pd_calls_for_service_2019_datasd.csv\n",
    "- Link to the dataset: https://data.sandiego.gov/datasets/police-calls-for-service/\n",
    "- Number of observations: 590967\n",
    "\n",
    "This dataset includes the police call types recieved to San Diego County police along with the location and time of \n",
    "\n",
    "- Dataset Name: pd_calls_for_service_2020_datasd.csv\n",
    "- Link to the dataset: https://data.sandiego.gov/datasets/police-calls-for-service/\n",
    "- Number of observations: 522569\n",
    "\n",
    "Since these datasets have the same variables and are just obersvations from a different year, I will concatenate the two datasets after obtaining monthly averages of calls for each year. "
   ]
  },
  {
   "cell_type": "markdown",
   "metadata": {},
   "source": [
    "# Setup"
   ]
  },
  {
   "cell_type": "code",
   "execution_count": 14,
   "metadata": {},
   "outputs": [],
   "source": [
    "import numpy as np\n",
    "import pandas as pd\n",
    "\n",
    "import matplotlib.pyplot as plt\n",
    "\n",
    "calls_2019 = pd.read_csv('/Users/kylecook/individual_fa20/data/pd_calls_for_service_2019_datasd.csv')\n",
    "calls_2020 = pd.read_csv('/Users/kylecook/individual_fa20/data/pd_calls_for_service_2020_datasd.csv')"
   ]
  },
  {
   "cell_type": "markdown",
   "metadata": {},
   "source": [
    "# Data Cleaning"
   ]
  },
  {
   "cell_type": "code",
   "execution_count": 15,
   "metadata": {},
   "outputs": [
    {
     "data": {
      "text/plain": [
       "Index(['incident_num', 'date_time', 'day_of_week', 'address_number_primary',\n",
       "       'address_dir_primary', 'address_road_primary', 'address_sfx_primary',\n",
       "       'address_dir_intersecting', 'address_road_intersecting',\n",
       "       'address_sfx_intersecting', 'call_type', 'disposition', 'beat',\n",
       "       'priority'],\n",
       "      dtype='object')"
      ]
     },
     "execution_count": 15,
     "metadata": {},
     "output_type": "execute_result"
    }
   ],
   "source": [
    "calls_2019.columns"
   ]
  },
  {
   "cell_type": "markdown",
   "metadata": {},
   "source": [
    "Describe your data cleaning steps here."
   ]
  },
  {
   "cell_type": "code",
   "execution_count": 16,
   "metadata": {},
   "outputs": [],
   "source": [
    "#Drop columns that are not need for the analysis.\n",
    "calls_2019 = calls_2019.drop([\"incident_num\", \"day_of_week\", \"address_number_primary\", \"address_dir_primary\", \n",
    "                              \"address_road_primary\", \"address_sfx_primary\", \n",
    "                              \"address_dir_intersecting\", \"address_road_intersecting\", \n",
    "                              \"address_sfx_intersecting\", \"beat\", \"priority\"], axis=1)\n",
    "calls_2020 = calls_2020.drop([\"incident_num\", \"day_of_week\", \"address_number_primary\", \"address_dir_primary\", \n",
    "                              \"address_road_primary\", \"address_sfx_primary\", \n",
    "                              \"address_dir_intersecting\", \"address_road_intersecting\", \n",
    "                              \"address_sfx_intersecting\", \"beat\", \"priority\"], axis=1)"
   ]
  },
  {
   "cell_type": "code",
   "execution_count": null,
   "metadata": {},
   "outputs": [],
   "source": []
  },
  {
   "cell_type": "code",
   "execution_count": 17,
   "metadata": {},
   "outputs": [
    {
     "data": {
      "text/plain": [
       "(3743, 3)"
      ]
     },
     "execution_count": 17,
     "metadata": {},
     "output_type": "execute_result"
    }
   ],
   "source": [
    "#checks for Null observations in 2019\n",
    "null_rows = calls_2019.isnull().any(axis=1)\n",
    "calls_2019[null_rows].shape"
   ]
  },
  {
   "cell_type": "code",
   "execution_count": 18,
   "metadata": {},
   "outputs": [
    {
     "data": {
      "text/plain": [
       "(1167, 3)"
      ]
     },
     "execution_count": 18,
     "metadata": {},
     "output_type": "execute_result"
    }
   ],
   "source": [
    "#checks for Null observations in 2020\n",
    "null_rows = calls_2020.isnull().any(axis=1)\n",
    "calls_2020[null_rows].shape"
   ]
  },
  {
   "cell_type": "code",
   "execution_count": 19,
   "metadata": {},
   "outputs": [],
   "source": [
    "#drops null rows\n",
    "calls_2019 = calls_2019.dropna().reset_index(drop=True)\n",
    "calls_2020 = calls_2020.dropna().reset_index(drop=True)"
   ]
  },
  {
   "cell_type": "code",
   "execution_count": 20,
   "metadata": {},
   "outputs": [
    {
     "data": {
      "text/html": [
       "<div>\n",
       "<style scoped>\n",
       "    .dataframe tbody tr th:only-of-type {\n",
       "        vertical-align: middle;\n",
       "    }\n",
       "\n",
       "    .dataframe tbody tr th {\n",
       "        vertical-align: top;\n",
       "    }\n",
       "\n",
       "    .dataframe thead th {\n",
       "        text-align: right;\n",
       "    }\n",
       "</style>\n",
       "<table border=\"1\" class=\"dataframe\">\n",
       "  <thead>\n",
       "    <tr style=\"text-align: right;\">\n",
       "      <th></th>\n",
       "      <th>date_time</th>\n",
       "      <th>call_type</th>\n",
       "    </tr>\n",
       "  </thead>\n",
       "  <tbody>\n",
       "    <tr>\n",
       "      <th>0</th>\n",
       "      <td>2019-01-01</td>\n",
       "      <td>415</td>\n",
       "    </tr>\n",
       "    <tr>\n",
       "      <th>1</th>\n",
       "      <td>2019-01-01</td>\n",
       "      <td>415</td>\n",
       "    </tr>\n",
       "    <tr>\n",
       "      <th>2</th>\n",
       "      <td>2019-01-01</td>\n",
       "      <td>415</td>\n",
       "    </tr>\n",
       "    <tr>\n",
       "      <th>3</th>\n",
       "      <td>2019-01-01</td>\n",
       "      <td>415</td>\n",
       "    </tr>\n",
       "    <tr>\n",
       "      <th>4</th>\n",
       "      <td>2019-01-01</td>\n",
       "      <td>415</td>\n",
       "    </tr>\n",
       "    <tr>\n",
       "      <th>...</th>\n",
       "      <td>...</td>\n",
       "      <td>...</td>\n",
       "    </tr>\n",
       "    <tr>\n",
       "      <th>50225</th>\n",
       "      <td>2019-12-31</td>\n",
       "      <td>415</td>\n",
       "    </tr>\n",
       "    <tr>\n",
       "      <th>50226</th>\n",
       "      <td>2019-12-31</td>\n",
       "      <td>415</td>\n",
       "    </tr>\n",
       "    <tr>\n",
       "      <th>50227</th>\n",
       "      <td>2019-12-31</td>\n",
       "      <td>415</td>\n",
       "    </tr>\n",
       "    <tr>\n",
       "      <th>50228</th>\n",
       "      <td>2019-12-31</td>\n",
       "      <td>415</td>\n",
       "    </tr>\n",
       "    <tr>\n",
       "      <th>50229</th>\n",
       "      <td>2019-12-31</td>\n",
       "      <td>415</td>\n",
       "    </tr>\n",
       "  </tbody>\n",
       "</table>\n",
       "<p>50230 rows × 2 columns</p>\n",
       "</div>"
      ],
      "text/plain": [
       "        date_time call_type\n",
       "0      2019-01-01       415\n",
       "1      2019-01-01       415\n",
       "2      2019-01-01       415\n",
       "3      2019-01-01       415\n",
       "4      2019-01-01       415\n",
       "...           ...       ...\n",
       "50225  2019-12-31       415\n",
       "50226  2019-12-31       415\n",
       "50227  2019-12-31       415\n",
       "50228  2019-12-31       415\n",
       "50229  2019-12-31       415\n",
       "\n",
       "[50230 rows x 2 columns]"
      ]
     },
     "execution_count": 20,
     "metadata": {},
     "output_type": "execute_result"
    }
   ],
   "source": [
    "#Parses date_time and gets rid of call_types that are not calls for disturbance of the peace\n",
    "\n",
    "calls_2019['call_type'] = calls_2019['call_type'].astype(str)\n",
    "calls_2020['call_type'] = calls_2020['call_type'].astype(str)\n",
    "\n",
    "calls_2019 = calls_2019[calls_2019['call_type'] == '415'].drop(['disposition'], axis=1).reset_index(drop=True)\n",
    "calls_2020 = calls_2020[calls_2020['call_type'] == '415'].drop(['disposition'], axis=1).reset_index(drop=True)\n",
    "\n",
    "calls_2019['date_time'] = calls_2019['date_time'].str[:10]\n",
    "calls_2020['date_time'] = calls_2020['date_time'].str[:10]\n",
    "calls_2019"
   ]
  },
  {
   "cell_type": "markdown",
   "metadata": {},
   "source": [
    "# Data Analysis & Results"
   ]
  },
  {
   "cell_type": "markdown",
   "metadata": {},
   "source": [
    "Include cells that describe the steps in your data analysis."
   ]
  },
  {
   "cell_type": "code",
   "execution_count": 21,
   "metadata": {},
   "outputs": [
    {
     "data": {
      "text/html": [
       "<div>\n",
       "<style scoped>\n",
       "    .dataframe tbody tr th:only-of-type {\n",
       "        vertical-align: middle;\n",
       "    }\n",
       "\n",
       "    .dataframe tbody tr th {\n",
       "        vertical-align: top;\n",
       "    }\n",
       "\n",
       "    .dataframe thead th {\n",
       "        text-align: right;\n",
       "    }\n",
       "</style>\n",
       "<table border=\"1\" class=\"dataframe\">\n",
       "  <thead>\n",
       "    <tr style=\"text-align: right;\">\n",
       "      <th></th>\n",
       "      <th>call_type</th>\n",
       "    </tr>\n",
       "    <tr>\n",
       "      <th>date_time</th>\n",
       "      <th></th>\n",
       "    </tr>\n",
       "  </thead>\n",
       "  <tbody>\n",
       "    <tr>\n",
       "      <th>2019-01-01</th>\n",
       "      <td>131</td>\n",
       "    </tr>\n",
       "    <tr>\n",
       "      <th>2019-01-02</th>\n",
       "      <td>114</td>\n",
       "    </tr>\n",
       "    <tr>\n",
       "      <th>2019-01-03</th>\n",
       "      <td>117</td>\n",
       "    </tr>\n",
       "    <tr>\n",
       "      <th>2019-01-04</th>\n",
       "      <td>159</td>\n",
       "    </tr>\n",
       "    <tr>\n",
       "      <th>2019-01-05</th>\n",
       "      <td>141</td>\n",
       "    </tr>\n",
       "    <tr>\n",
       "      <th>...</th>\n",
       "      <td>...</td>\n",
       "    </tr>\n",
       "    <tr>\n",
       "      <th>2019-12-27</th>\n",
       "      <td>136</td>\n",
       "    </tr>\n",
       "    <tr>\n",
       "      <th>2019-12-28</th>\n",
       "      <td>131</td>\n",
       "    </tr>\n",
       "    <tr>\n",
       "      <th>2019-12-29</th>\n",
       "      <td>131</td>\n",
       "    </tr>\n",
       "    <tr>\n",
       "      <th>2019-12-30</th>\n",
       "      <td>103</td>\n",
       "    </tr>\n",
       "    <tr>\n",
       "      <th>2019-12-31</th>\n",
       "      <td>111</td>\n",
       "    </tr>\n",
       "  </tbody>\n",
       "</table>\n",
       "<p>365 rows × 1 columns</p>\n",
       "</div>"
      ],
      "text/plain": [
       "            call_type\n",
       "date_time            \n",
       "2019-01-01        131\n",
       "2019-01-02        114\n",
       "2019-01-03        117\n",
       "2019-01-04        159\n",
       "2019-01-05        141\n",
       "...               ...\n",
       "2019-12-27        136\n",
       "2019-12-28        131\n",
       "2019-12-29        131\n",
       "2019-12-30        103\n",
       "2019-12-31        111\n",
       "\n",
       "[365 rows x 1 columns]"
      ]
     },
     "execution_count": 21,
     "metadata": {},
     "output_type": "execute_result"
    }
   ],
   "source": [
    "#groups calls from the same day\n",
    "calls_2019 = calls_2019.groupby(['date_time']).count()\n",
    "calls_2020 = calls_2020.groupby(['date_time']).count()\n",
    "calls_2019"
   ]
  },
  {
   "cell_type": "code",
   "execution_count": 22,
   "metadata": {},
   "outputs": [
    {
     "data": {
      "text/html": [
       "<div>\n",
       "<style scoped>\n",
       "    .dataframe tbody tr th:only-of-type {\n",
       "        vertical-align: middle;\n",
       "    }\n",
       "\n",
       "    .dataframe tbody tr th {\n",
       "        vertical-align: top;\n",
       "    }\n",
       "\n",
       "    .dataframe thead th {\n",
       "        text-align: right;\n",
       "    }\n",
       "</style>\n",
       "<table border=\"1\" class=\"dataframe\">\n",
       "  <thead>\n",
       "    <tr style=\"text-align: right;\">\n",
       "      <th></th>\n",
       "      <th>Disturbance_call_2020</th>\n",
       "    </tr>\n",
       "    <tr>\n",
       "      <th>month</th>\n",
       "      <th></th>\n",
       "    </tr>\n",
       "  </thead>\n",
       "  <tbody>\n",
       "    <tr>\n",
       "      <th>1</th>\n",
       "      <td>135.483871</td>\n",
       "    </tr>\n",
       "    <tr>\n",
       "      <th>2</th>\n",
       "      <td>138.482759</td>\n",
       "    </tr>\n",
       "    <tr>\n",
       "      <th>3</th>\n",
       "      <td>159.516129</td>\n",
       "    </tr>\n",
       "    <tr>\n",
       "      <th>4</th>\n",
       "      <td>207.566667</td>\n",
       "    </tr>\n",
       "    <tr>\n",
       "      <th>5</th>\n",
       "      <td>187.225806</td>\n",
       "    </tr>\n",
       "    <tr>\n",
       "      <th>6</th>\n",
       "      <td>142.655172</td>\n",
       "    </tr>\n",
       "    <tr>\n",
       "      <th>7</th>\n",
       "      <td>173.354839</td>\n",
       "    </tr>\n",
       "    <tr>\n",
       "      <th>8</th>\n",
       "      <td>162.935484</td>\n",
       "    </tr>\n",
       "    <tr>\n",
       "      <th>9</th>\n",
       "      <td>156.133333</td>\n",
       "    </tr>\n",
       "    <tr>\n",
       "      <th>10</th>\n",
       "      <td>154.290323</td>\n",
       "    </tr>\n",
       "    <tr>\n",
       "      <th>11</th>\n",
       "      <td>144.366667</td>\n",
       "    </tr>\n",
       "    <tr>\n",
       "      <th>12</th>\n",
       "      <td>136.000000</td>\n",
       "    </tr>\n",
       "  </tbody>\n",
       "</table>\n",
       "</div>"
      ],
      "text/plain": [
       "       Disturbance_call_2020\n",
       "month                       \n",
       "1                 135.483871\n",
       "2                 138.482759\n",
       "3                 159.516129\n",
       "4                 207.566667\n",
       "5                 187.225806\n",
       "6                 142.655172\n",
       "7                 173.354839\n",
       "8                 162.935484\n",
       "9                 156.133333\n",
       "10                154.290323\n",
       "11                144.366667\n",
       "12                136.000000"
      ]
     },
     "execution_count": 22,
     "metadata": {},
     "output_type": "execute_result"
    }
   ],
   "source": [
    "#Gets the average amount of calls per month for each year\n",
    "calls_2019 = calls_2019.reset_index()\n",
    "calls_2020 = calls_2020.reset_index()\n",
    "\n",
    "df_2019 = calls_2019\n",
    "df_2019['month'] = df_2019['date_time'].str[5:7].astype(int)\n",
    "df_2019 = df_2019.groupby('month').mean()\n",
    "df_2019.columns = ['Disturbance_call_2019']\n",
    "\n",
    "df_2020 = calls_2020\n",
    "df_2020['month'] = df_2020['date_time'].str[5:7].astype(int)\n",
    "df_2020 = df_2020.groupby('month').mean()\n",
    "df_2020.columns = ['Disturbance_call_2020']\n",
    "\n",
    "#Since calls_2020 does not have all of December's data, I dropped \n",
    "#2019's December data as well so the dataframe have the same shape.\n",
    "#This is used later for plotting\n",
    "calls_2019 = calls_2019.drop(['date_time', 'month'], axis=1)[:-30]\n",
    "calls_2020 = calls_2020.drop(['date_time', 'month'], axis=1)\n",
    "\n",
    "df_2020"
   ]
  },
  {
   "cell_type": "code",
   "execution_count": 23,
   "metadata": {},
   "outputs": [
    {
     "data": {
      "text/html": [
       "<div>\n",
       "<style scoped>\n",
       "    .dataframe tbody tr th:only-of-type {\n",
       "        vertical-align: middle;\n",
       "    }\n",
       "\n",
       "    .dataframe tbody tr th {\n",
       "        vertical-align: top;\n",
       "    }\n",
       "\n",
       "    .dataframe thead th {\n",
       "        text-align: right;\n",
       "    }\n",
       "</style>\n",
       "<table border=\"1\" class=\"dataframe\">\n",
       "  <thead>\n",
       "    <tr style=\"text-align: right;\">\n",
       "      <th></th>\n",
       "      <th>month</th>\n",
       "      <th>Disturbance_call_2019</th>\n",
       "      <th>Disturbance_call_2020</th>\n",
       "    </tr>\n",
       "  </thead>\n",
       "  <tbody>\n",
       "    <tr>\n",
       "      <th>0</th>\n",
       "      <td>Jan</td>\n",
       "      <td>133.806452</td>\n",
       "      <td>135.483871</td>\n",
       "    </tr>\n",
       "    <tr>\n",
       "      <th>1</th>\n",
       "      <td>Feb</td>\n",
       "      <td>131.535714</td>\n",
       "      <td>138.482759</td>\n",
       "    </tr>\n",
       "    <tr>\n",
       "      <th>2</th>\n",
       "      <td>Mar</td>\n",
       "      <td>141.612903</td>\n",
       "      <td>159.516129</td>\n",
       "    </tr>\n",
       "    <tr>\n",
       "      <th>3</th>\n",
       "      <td>Apr</td>\n",
       "      <td>139.400000</td>\n",
       "      <td>207.566667</td>\n",
       "    </tr>\n",
       "    <tr>\n",
       "      <th>4</th>\n",
       "      <td>May</td>\n",
       "      <td>138.709677</td>\n",
       "      <td>187.225806</td>\n",
       "    </tr>\n",
       "    <tr>\n",
       "      <th>5</th>\n",
       "      <td>Jun</td>\n",
       "      <td>140.866667</td>\n",
       "      <td>142.655172</td>\n",
       "    </tr>\n",
       "    <tr>\n",
       "      <th>6</th>\n",
       "      <td>Jul</td>\n",
       "      <td>146.064516</td>\n",
       "      <td>173.354839</td>\n",
       "    </tr>\n",
       "    <tr>\n",
       "      <th>7</th>\n",
       "      <td>Aug</td>\n",
       "      <td>142.548387</td>\n",
       "      <td>162.935484</td>\n",
       "    </tr>\n",
       "    <tr>\n",
       "      <th>8</th>\n",
       "      <td>Sep</td>\n",
       "      <td>141.566667</td>\n",
       "      <td>156.133333</td>\n",
       "    </tr>\n",
       "    <tr>\n",
       "      <th>9</th>\n",
       "      <td>Oct</td>\n",
       "      <td>139.870968</td>\n",
       "      <td>154.290323</td>\n",
       "    </tr>\n",
       "    <tr>\n",
       "      <th>10</th>\n",
       "      <td>Nov</td>\n",
       "      <td>130.866667</td>\n",
       "      <td>144.366667</td>\n",
       "    </tr>\n",
       "    <tr>\n",
       "      <th>11</th>\n",
       "      <td>Dec</td>\n",
       "      <td>124.032258</td>\n",
       "      <td>136.000000</td>\n",
       "    </tr>\n",
       "  </tbody>\n",
       "</table>\n",
       "</div>"
      ],
      "text/plain": [
       "   month  Disturbance_call_2019  Disturbance_call_2020\n",
       "0    Jan             133.806452             135.483871\n",
       "1    Feb             131.535714             138.482759\n",
       "2    Mar             141.612903             159.516129\n",
       "3    Apr             139.400000             207.566667\n",
       "4    May             138.709677             187.225806\n",
       "5    Jun             140.866667             142.655172\n",
       "6    Jul             146.064516             173.354839\n",
       "7    Aug             142.548387             162.935484\n",
       "8    Sep             141.566667             156.133333\n",
       "9    Oct             139.870968             154.290323\n",
       "10   Nov             130.866667             144.366667\n",
       "11   Dec             124.032258             136.000000"
      ]
     },
     "execution_count": 23,
     "metadata": {},
     "output_type": "execute_result"
    }
   ],
   "source": [
    "#Creates final dataframe for analysis\n",
    "df = pd.concat([df_2019, df_2020], axis=1).reset_index()\n",
    "months = {1: 'Jan', 2: 'Feb', 3: 'Mar', 4: 'Apr', 5: 'May', \n",
    "          6: 'Jun', 7: 'Jul', 8: 'Aug', 9: 'Sep', \n",
    "          10: 'Oct', 11: 'Nov', 12: 'Dec'}\n",
    "df = df.replace({'month': months})\n",
    "df"
   ]
  },
  {
   "cell_type": "code",
   "execution_count": 24,
   "metadata": {},
   "outputs": [
    {
     "data": {
      "image/png": "[encoded data removed]",
      "text/plain": [
       "<Figure size 432x288 with 1 Axes>"
      ]
     },
     "metadata": {
      "needs_background": "light"
     },
     "output_type": "display_data"
    }
   ],
   "source": [
    "#Plots the count of calls from each day over each year\n",
    "plt.plot(calls_2019.index, calls_2019.values, label = '2019')\n",
    "plt.plot(calls_2020.index, calls_2020.values, label = '2020')\n",
    "plt.xlabel('Day in Year')\n",
    "plt.ylabel('Frequency')\n",
    "plt.title('Comparison of police calls made each day in 2019 and 2020')\n",
    "plt.legend()\n",
    "plt.show()"
   ]
  },
  {
   "cell_type": "markdown",
   "metadata": {},
   "source": [
    "Around day 100 there was a large increase in calls for disturbing the peace. Day 100 in the year is in March which is when the Covid-19 'stay-at-home' order began in California. Afterwards, the call count decreses a little, but the line continues to remain a above the 2019 line. In order to see whats going on we will look at the monthly mean for calls in 2019 and 2020. "
   ]
  },
  {
   "cell_type": "code",
   "execution_count": 25,
   "metadata": {},
   "outputs": [
    {
     "data": {
      "text/plain": [
       "<AxesSubplot:xlabel='month'>"
      ]
     },
     "execution_count": 25,
     "metadata": {},
     "output_type": "execute_result"
    },
    {
     "data": {
      "image/png": "[encoded data removed]",
      "text/plain": [
       "<Figure size 432x288 with 1 Axes>"
      ]
     },
     "metadata": {
      "needs_background": "light"
     },
     "output_type": "display_data"
    }
   ],
   "source": [
    "#plots the averages of calls for each month of each year \n",
    "df.plot.bar(x = 'month', y = ['Disturbance_call_2019', 'Disturbance_call_2020'], rot = 40)"
   ]
  },
  {
   "cell_type": "markdown",
   "metadata": {},
   "source": [
    "This Graph shows us in the months of April and May in 2020 there was a larger amount of calls to the police for disturbance of the peace. The covid-19 pandemic started at the end of March. Immediately we can see there was an increase in the average calls per month when the lockdown began. From there, the average amount of calls is still higher compared to 2019, but there is a decreasing trend. "
   ]
  },
  {
   "cell_type": "markdown",
   "metadata": {},
   "source": [
    "# Ethics & Privacy"
   ]
  },
  {
   "cell_type": "markdown",
   "metadata": {},
   "source": [
    "The data that I am using is allowed for public use by the San Diego Parks and Recreations. I think that my data is very ethical. It does not include any information regarding the location at which any of these events occured. The calls are from no specific deomgraphics since the only information we have about the call is the type. We do not have datasets with any personal information that could harm anyone. "
   ]
  },
  {
   "cell_type": "markdown",
   "metadata": {},
   "source": [
    "# Conclusion & Discussion"
   ]
  },
  {
   "cell_type": "markdown",
   "metadata": {},
   "source": [
    "After my analysis, I have concluded that Covid-19 and the 'stay-at-home' order does have an effect on the amount of calls of disturbance. From the first graph, there is a clear increase in calls that started around March. This is that same time california's stay at home order started. Our next graph compared the average calls per month which visually showed that there was an average increase in the mean after the pandemic began. I believe the reason for the decreasing trend after the beginning of the pandemic is because over time people became more relaxed. It is reasonable to believe that people stopped calling as much because over time the pandemic in truth has become normal. It's also fair to say that as we get closer to getting the vaccine people have become more relaxed. "
   ]
  }
 ],
 "metadata": {
  "kernelspec": {
   "display_name": "Python 3",
   "language": "python",
   "name": "python3"
  },
  "language_info": {
   "codemirror_mode": {
    "name": "ipython",
    "version": 3
   },
   "file_extension": ".py",
   "mimetype": "text/x-python",
   "name": "python",
   "nbconvert_exporter": "python",
   "pygments_lexer": "ipython3",
   "version": "3.8.5"
  }
 },
 "nbformat": 4,
 "nbformat_minor": 4
}
